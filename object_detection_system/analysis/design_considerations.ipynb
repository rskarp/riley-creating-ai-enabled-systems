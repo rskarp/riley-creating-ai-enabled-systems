{
 "cells": [
  {
   "cell_type": "markdown",
   "metadata": {},
   "source": [
    "# Design Considerations\n",
    "Identify FIVE design decisions for this system. Argue for how this design decision is significant to the system, and your plans to analyze this design. If needed, use the dataset provided to you.\n",
    "\n",
    "Analyze TWO out of the five design decisions. Add the results of your analysis."
   ]
  },
  {
   "cell_type": "code",
   "execution_count": null,
   "metadata": {},
   "outputs": [],
   "source": []
  }
 ],
 "metadata": {
  "language_info": {
   "name": "python"
  }
 },
 "nbformat": 4,
 "nbformat_minor": 2
}

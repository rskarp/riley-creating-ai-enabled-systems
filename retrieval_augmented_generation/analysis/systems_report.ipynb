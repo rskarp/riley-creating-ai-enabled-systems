{
 "cells": [
  {
   "cell_type": "markdown",
   "metadata": {},
   "source": [
    "# Retrieval Augmented Generation System Report\n",
    "\n",
    "## System Design\n",
    "\n",
    "## Data, Data Pipelines, and model\n",
    "\n",
    "### Data\n",
    "\n",
    "### Data Pipelines\n",
    "\n",
    "### Model\n",
    "\n",
    "## Metrics Definition\n",
    "\n",
    "### Offline Metrics\n",
    "\n",
    "### Online Metrics\n",
    "\n",
    "## Analysis of System Parameters and Configurations\n",
    "\n",
    "### Design Considerations\n",
    "\n",
    "### Extraction Service\n",
    "\n",
    "### Retrieval Service\n",
    "\n",
    "### Generator Service\n",
    "\n",
    "### Overall System\n",
    "\n",
    "## Post-Deployment Policies\n",
    "### Monitoring and Maintenance Plan\n",
    "\n",
    "### Fault Mitigation Strategies\n"
   ]
  }
 ],
 "metadata": {
  "language_info": {
   "name": "python"
  }
 },
 "nbformat": 4,
 "nbformat_minor": 2
}

{
 "cells": [
  {
   "cell_type": "markdown",
   "metadata": {},
   "source": [
    "# Design Considerations\n",
    "\n",
    "## Part 1: Identify FIVE design decisions for this system.\n",
    "Argue for how this design decision is significant to the system, and your plans to analyze this design. If needed, use the dataset provided to you.\n",
    "\n",
    "### 1. Search Technique\n",
    "Choosing a search technique is an important design consideration for the retrieval service in the system. The search module is responsible for searching the database of known embeddings to find the most similar samples to the input probe. This search needs to be accurate so that we don't misidentify an intruder as a known employee (i.e. a false positive), but also needs to be efficient so that entrants don't have to wait at the access point for long periods of time for the system to complete its search. Even if we decide that we'll use K-Nearest Neighbors for our search algorithm, there are still two main aspects of the search module to consider: exact vs. approximate search and indexing strategy. Implementing some kind of indexing is important because it allows the data to be organized in a way that makes searching, inserting, deleting, and retrieval more efficient.\n",
    "- **Exact vs. Approximate:** Exact searches like brute force can be highly accurate and can guarantee that the returned samples are the most similar to the input probe; however, this can be computationally expensive, especially if the embeddings database has many samples or high dimensionality. Approximate searches don't require visiting every single sample in the embeddings database, and therefore are more computationally efficient; however, may be less accurate since they don't guarantee that the optimal solution is identified, since they only search for an adequate solution that's good enough.\n",
    "- **Indexing Strategies:** Indexing strategies organize the data in a way the improves efficiency for search and retrieval. Some strategies like KD trees can be applied to both exact and approximate searches, while others like local sensitivity hashing (LSH) and hierarchical navigable small world graphs (HNSW) are intended for approximate searches. KD trees partition the data by dimension into \"hyperrectangles\", allowing for more efficient search since some branches can be eliminated; however, tree depth increases with dimensionality, making this less efficient for high dimensional data. LSH groups similar items into buckets by increasing the probability of hashing collisions for similar items, and is a good alternative for high dimensional data; however, may result in false negatives due to its probablistic nature. HNSW is an accurate, scalable and efficient solution for high dimensional data, where the data is organized into heirarchical layers, with each course layers first and more fine-grained layers towards the bottom; however, storing a graph of all of the layers can be memory intensive.\n",
    "\n",
    "**Analysis Plan**\n",
    "\n",
    "To analyze the different search techniques, each variation (brute force, exact KNN,KD trees, LSH, HNSW) can be run on a validation set of known embedding vectors that have been precomputed from the gallery database. The mean average precision can then be calculated for each run, so that the quality of the search outputs (ranked nearest samples) can be compared for each search technique. Additionally, the mean search time per sample will be tracked, so we can determine which technique is the most efficient. The search technique resulting in the best balance of mean average precision and efficiency would be chosen for deployment. Mean average precision is chosen as a comparison metric since it takes into account both the number of positive samples identified, as well as the rank of those samples, unlike precision@k, recall@k, and mean reciprocal rank.\n",
    "\n",
    "### 2. Similarity Measure\n",
    "Another important design consideration is the similarity measure used in the Nearest Neighbor search when calculating the distance between two embedding vectors. The distance metric must ensure that higher distances are associated with dissimilar images and lower distances are associated with similar images. Different distance metrics can lead to different results for the same points, so it's important to carefully choose the distance measure. Some popular distance metrics include Manhattan distance (aka \"city block\" distance), Euclidean distance (aka \"straight line\" distance), Minkowski distance (a generalized version of Manhattan and Euclidean distances), and cosine similarity which measures the angle between two vectors.\n",
    "\n",
    "**Analysis Plan**\n",
    "\n",
    "To analyze the different similarity measures, each variation (Manhattan distance, Euclidean distance, Minkwoski distance with different values for the p parameter, and cosine similarity) can be run on a validation set of known embedding vectors that have been precomputed from the gallery database. The mean average precision can then be calculated for each run, so that the quality of the search outputs (ranked nearest samples) can be compared for the search using each similarity measure. Additionally, the mean search time per sample will be tracked, so we can identify any differences in efficiency between the similarity measures. The similarity measure resulting in the best balance of mean average precision and efficiency would be chosen for deployment.\n",
    "\n",
    "### 3. Number of Nearest Neighbors (K)\n",
    "Also used in mAP metric\n",
    "\n",
    "**Analysis Plan**\n",
    "\n",
    "TBD\n",
    "\n",
    "### 4. Embedding Vector Dimensionality\n",
    "TBD\n",
    "\n",
    "**Analysis Plan**\n",
    "\n",
    "TBD\n",
    "\n",
    "### 5. Potential for Racial Bias\n",
    "Contrast enhancements/augmentations not the same on all skin tones.\n",
    "\n",
    "**Analysis Plan**\n",
    "\n",
    "TBD\n",
    "\n",
    "### 6. Model Selection\n",
    "TBD\n",
    "\n",
    "**Analysis Plan**\n",
    "\n",
    "TBD\n",
    "\n",
    "### References\n",
    "- Pham, A. (2022, April 20). A look into K-Dimensional Trees. Medium. https://medium.com/smucs/a-look-into-k-dimensional-trees-290ec69dffe9\n",
    "- MyScale. (2023, June 14). HNSW vs KNN: The Ultimate Algorithm Showdown. https://myscale.com/blog/hnsw-vs-knn-algorithm-comparison/\n",
    "- Ng, A. (2018, April 16). kNN.16 Locality sensitive hashing (LSH) [Video]. YouTube. https://www.youtube.com/watch?v=LqcwaW2YE_c\n",
    "- Kaushik, S. (2021, January 11). Importance of Distance Metrics in Machine Learning Modelling. Towards Data Science. https://towardsdatascience.com/importance-of-distance-metrics-in-machine-learning-modelling-e51395ffe60d\n",
    "- Gokte, S. A. (2020, November 17). Most Popular Distance Metrics Used in KNN and When to Use Them. KDnuggets. https://www.kdnuggets.com/2020/11/most-popular-distance-metrics-knn.html\n",
    "\n",
    "## Part 2: Analyze TWO out of the five design decisions. Add the results of your analysis.\n",
    "\n",
    "#### Import necessary libraries"
   ]
  },
  {
   "cell_type": "code",
   "execution_count": 1,
   "metadata": {},
   "outputs": [],
   "source": [
    "# Import all libraries necessary for analysis\n",
    "import sys\n",
    "sys.path.insert(1,'../')\n",
    "from src.search.search import Measure\n",
    "from src.metrics import RankingMetrics\n",
    "from pipeline import Pipeline, MULTI_IMAGE_GALLERY_STORAGE\n",
    "from glob import glob\n",
    "import numpy as np\n",
    "import matplotlib.pyplot as plt\n",
    "from sklearn.decomposition import PCA\n",
    "from sklearn.preprocessing import LabelEncoder\n",
    "from collections import Counter\n",
    "from sklearn.metrics import silhouette_score\n",
    "from PIL import Image\n",
    "import matplotlib.cm as cm"
   ]
  },
  {
   "cell_type": "markdown",
   "metadata": {},
   "source": [
    "#### Precompute all embeddings for all models"
   ]
  },
  {
   "cell_type": "code",
   "execution_count": 2,
   "metadata": {},
   "outputs": [
    {
     "name": "stdout",
     "output_type": "stream",
     "text": [
      "Calculating embeddings...\n",
      "Indexing embeddings...\n",
      "Calculating embeddings...\n",
      "Indexing embeddings...\n",
      "Calculating embeddings...\n",
      "Indexing embeddings...\n",
      "Calculating embeddings...\n",
      "Indexing embeddings...\n"
     ]
    }
   ],
   "source": [
    "# Precompute all embeddings for all 4 models\n",
    "pipeline_064_018 = Pipeline(image_size=64, architecture='resnet_018',\n",
    "                        dimension=256, measure=Measure.euclidean, gallery_folder=MULTI_IMAGE_GALLERY_STORAGE)\n",
    "pipeline_064_034 = Pipeline(image_size=64, architecture='resnet_034',\n",
    "                        dimension=256, measure=Measure.euclidean, gallery_folder=MULTI_IMAGE_GALLERY_STORAGE)\n",
    "pipeline_224_018 = Pipeline(image_size=224, architecture='resnet_018',\n",
    "                        dimension=256, measure=Measure.euclidean, gallery_folder=MULTI_IMAGE_GALLERY_STORAGE)\n",
    "pipeline_224_034 = Pipeline(image_size=224, architecture='resnet_034',\n",
    "                        dimension=256, measure=Measure.euclidean, gallery_folder=MULTI_IMAGE_GALLERY_STORAGE)"
   ]
  },
  {
   "cell_type": "markdown",
   "metadata": {},
   "source": [
    "#### Calculate principal components of all embeddings for all 4 models"
   ]
  },
  {
   "cell_type": "code",
   "execution_count": 8,
   "metadata": {},
   "outputs": [],
   "source": [
    "# Read in embeddings from files for all 4 models, and find top 2 principal components using PCA\n",
    "model_embeddings = {}\n",
    "model_pca = {}\n",
    "for image_size in [64, 224]:\n",
    "    for arch in ['resnet_018', 'resnet_034']:\n",
    "        model = f'model_size_{image_size:03}_{arch}'\n",
    "        pattern = f'../storage/embeddings/{model}/*/*.npy'\n",
    "        npy_files = glob(pattern)\n",
    "        embeddings = np.zeros([len(npy_files), 256])\n",
    "        # Read all files in the model's embeddings folder\n",
    "        for i in range(len(npy_files)):\n",
    "            filename = npy_files[i]\n",
    "            with open(filename, 'rb') as f:\n",
    "                embeddings[i,:] = np.load(f).T\n",
    "        # Find principal components\n",
    "        X_reduced = PCA(n_components=2).fit_transform(embeddings)\n",
    "        model_pca[model] = X_reduced\n",
    "        model_embeddings[model] = embeddings"
   ]
  },
  {
   "cell_type": "markdown",
   "metadata": {},
   "source": [
    "### 1. [Extraction Service] Model Selection"
   ]
  },
  {
   "cell_type": "code",
   "execution_count": 3,
   "metadata": {},
   "outputs": [],
   "source": [
    "pattern = f'../simclr_resources/probe/*/*.jpg'\n",
    "probe_files = glob(pattern)\n",
    "# Get names of the person in each image\n",
    "true_names = [filename.split('/')[-2] for filename in probe_files]\n",
    "k = 3\n",
    "metrics = RankingMetrics(k=k)\n",
    "pipelines = [pipeline_064_018, pipeline_064_034, pipeline_224_018, pipeline_224_034]\n",
    "models = ['model_size_064_resnet_018', 'model_size_064_resnet_034', 'model_size_224_resnet_018', 'model_size_224_resnet_034']\n",
    "relevance_ranks = {m:[] for m in models}\n",
    "for i in range(len(probe_files)):\n",
    "    probe = Image.open(probe_files[i])\n",
    "    for j in range(len(pipelines)):\n",
    "        pipeline = pipelines[j]\n",
    "        model = models[j]\n",
    "        neighbors = pipeline.search_gallery(probe, k)\n",
    "        predicted_names = [f'{n[1][\"firstName\"]}_{n[1][\"lastName\"]}' for n in neighbors]\n",
    "        relevance_rank = [1 if n == true_names[i] else 0 for n in predicted_names]\n",
    "        relevance_ranks.get(model,[]).append(relevance_rank)"
   ]
  },
  {
   "cell_type": "code",
   "execution_count": 52,
   "metadata": {},
   "outputs": [
    {
     "name": "stdout",
     "output_type": "stream",
     "text": [
      "model_size_064_resnet_018: {'Precision@3': 0.1011011011011011, 'Recall@3': nan, 'MAP@3': 0.056389723056389715, 'MRR@3': 0.20587253920587253}\n",
      "model_size_064_resnet_034: {'Precision@3': 0.12345679012345678, 'Recall@3': nan, 'MAP@3': 0.08508508508508508, 'MRR@3': 0.21855188521855187}\n",
      "model_size_224_resnet_018: {'Precision@3': 0.18651985318651987, 'Recall@3': nan, 'MAP@3': 0.11111111111111109, 'MRR@3': 0.36653319986653315}\n",
      "model_size_224_resnet_034: {'Precision@3': 0.03670337003670337, 'Recall@3': nan, 'MAP@3': 0.01868535201868535, 'MRR@3': 0.07857857857857857}\n"
     ]
    }
   ],
   "source": [
    "for m in models:\n",
    "    print(f'{m}: {metrics.calc_metrics(relevance_ranks.get(m))}')"
   ]
  },
  {
   "cell_type": "markdown",
   "metadata": {},
   "source": [
    "### 2. [Search Service] Similarity Measure"
   ]
  },
  {
   "cell_type": "code",
   "execution_count": 4,
   "metadata": {},
   "outputs": [],
   "source": [
    "k = 3\n",
    "metrics = RankingMetrics(k=k)\n",
    "def minkowski5(p1, p2): return Measure.minkowski(p1, p2, 5)\n",
    "def minkowski10(p1, p2): return Measure.minkowski(p1, p2, 10)\n",
    "measures = [Measure.euclidean, Measure.manhattan, Measure.cosine_similarity, minkowski5, minkowski10]\n",
    "relevance_ranks = {m:[] for m in measures}\n",
    "for j in range(len(measures)):\n",
    "    measure = measures[j]\n",
    "    pipeline_224_018.set_search_measure(measure)\n",
    "    ranks = []\n",
    "    for i in range(len(probe_files)):\n",
    "        probe = Image.open(probe_files[i])\n",
    "        neighbors = pipeline_224_018.search_gallery(probe, k)\n",
    "        predicted_names = [f'{n[1][\"firstName\"]}_{n[1][\"lastName\"]}' for n in neighbors]\n",
    "        relevance_rank = [1 if n == true_names[i] else 0 for n in predicted_names]\n",
    "        ranks.append(relevance_rank)\n",
    "    relevance_ranks[measure.__name__] = ranks"
   ]
  },
  {
   "cell_type": "code",
   "execution_count": 5,
   "metadata": {},
   "outputs": [
    {
     "name": "stdout",
     "output_type": "stream",
     "text": [
      "euclidean: {'Precision@3': 0.18651985318651987, 'Recall@3': nan, 'MAP@3': 0.11111111111111109, 'MRR@3': 0.36653319986653315}\n",
      "manhattan: {'Precision@3': 0.18551885218551886, 'Recall@3': nan, 'MAP@3': 0.1111111111111111, 'MRR@3': 0.363697030363697}\n",
      "cosine_similarity: {'Precision@3': 0.0, 'Recall@3': nan, 'MAP@3': 0.0, 'MRR@3': 0.0}\n",
      "minkowski5: {'Precision@3': 0.18051384718051383, 'Recall@3': nan, 'MAP@3': 0.11177844511177844, 'MRR@3': 0.34734734734734735}\n",
      "541\n"
     ]
    }
   ],
   "source": [
    "for m in measures:\n",
    "    print(f'{m.__name__}: {metrics.calc_metrics(relevance_ranks.get(m.__name__))}')"
   ]
  },
  {
   "cell_type": "markdown",
   "metadata": {},
   "source": [
    "## Additional Analysis\n",
    "Analysis beyond the minimum two required analyses.\n",
    "\n",
    "### 3. [Search Service] Number of Nearest Neighbors (K) "
   ]
  },
  {
   "cell_type": "code",
   "execution_count": 10,
   "metadata": {},
   "outputs": [],
   "source": [
    "# Analysis 3\n",
    "# optimal k starts near sqrt(N)\n",
    "# print(np.sqrt(model_embeddings[model].shape[0])) \n",
    "\n",
    "ks = [1, 3, 5, 10, 30, 50]\n",
    "pipeline_224_018.set_search_measure(Measure.euclidean)\n",
    "relevance_ranks = {k:[] for k in ks}\n",
    "for i in range(len(probe_files)):\n",
    "    probe = Image.open(probe_files[i])\n",
    "    for k in ks:\n",
    "        neighbors = pipeline_224_018.search_gallery(probe, k)\n",
    "        predicted_names = [f'{n[1][\"firstName\"]}_{n[1][\"lastName\"]}' for n in neighbors]\n",
    "        relevance_rank = [1 if n == true_names[i] else 0 for n in predicted_names]\n",
    "        relevance_ranks.get(k,[]).append(relevance_rank)"
   ]
  },
  {
   "cell_type": "code",
   "execution_count": 11,
   "metadata": {},
   "outputs": [
    {
     "name": "stdout",
     "output_type": "stream",
     "text": [
      "k=1: {'Precision@1': 0.3163163163163163, 'Recall@1': nan, 'MAP@1': 0.0, 'MRR@1': 0.3163163163163163}\n",
      "k=3: {'Precision@3': 0.18651985318651987, 'Recall@3': nan, 'MAP@3': 0.11111111111111109, 'MRR@3': 0.36653319986653315}\n"
     ]
    }
   ],
   "source": [
    "for k in ks:\n",
    "    metrics = RankingMetrics(k=k)\n",
    "    print(f'k={k}: {metrics.calc_metrics(relevance_ranks.get(k))}')"
   ]
  },
  {
   "cell_type": "code",
   "execution_count": null,
   "metadata": {},
   "outputs": [],
   "source": [
    "# TODO\n",
    "# - Plots\n",
    "# - Timing\n",
    "\n",
    "'''\n",
    "k=2\n",
    "{'Precision@2': 0.12362362362362363,\n",
    " 'Recall@2': nan,\n",
    " 'MAP@2': 0.05005005005005005,\n",
    " 'MRR@2': 0.1971971971971972}\n",
    "\n",
    "k=3\n",
    "{'Precision@3': 0.1011011011011011,\n",
    " 'Recall@3': nan,\n",
    " 'MAP@3': 0.056389723056389715,\n",
    " 'MRR@3': 0.20587253920587253}\n",
    "\n",
    "k=5\n",
    "{'Precision@5': 0.07507507507507508,\n",
    " 'Recall@5': nan,\n",
    " 'MAP@5': 0.050250250250250254,\n",
    " 'MRR@5': 0.21332999666333}\n",
    "\n",
    "k=10\n",
    "{'Precision@10': 0.05285285285285285,\n",
    "'Recall@10': nan,\n",
    "'MAP@10': 0.04174174174174174,\n",
    "'MRR@10': 0.2217534995312773}\n",
    "\n",
    "k=20\n",
    "{'Precision@20': 0.03398398398398399,\n",
    " 'Recall@20': nan,\n",
    " 'MAP@20': 0.028728728728728732,\n",
    " 'MRR@20': 0.2270195478055815}\n",
    " \n",
    " k=40\n",
    " {'Precision@40': 0.022022022022022022,\n",
    " 'Recall@40': nan,\n",
    " 'MAP@40': 0.0195945945945946,\n",
    " 'MRR@40': 0.22956773017229987}\n",
    "\n",
    " k=50\n",
    " {'Precision@50': 0.01861861861861862,\n",
    " 'Recall@50': nan,\n",
    " 'MAP@50': 0.01667667667667668,\n",
    " 'MRR@50': 0.2301259492510146}\n",
    " '''\n",
    "def minkowski5(p1, p2): return Measure.minkowski(p1, p2, 5)\n",
    "print(minkowski5.__name__)"
   ]
  }
 ],
 "metadata": {
  "kernelspec": {
   "display_name": ".venv",
   "language": "python",
   "name": "python3"
  },
  "language_info": {
   "codemirror_mode": {
    "name": "ipython",
    "version": 3
   },
   "file_extension": ".py",
   "mimetype": "text/x-python",
   "name": "python",
   "nbconvert_exporter": "python",
   "pygments_lexer": "ipython3",
   "version": "3.9.6"
  }
 },
 "nbformat": 4,
 "nbformat_minor": 2
}
